{
 "cells": [
  {
   "cell_type": "markdown",
   "id": "d4483a09-05b3-4244-8cb2-24d070a9592d",
   "metadata": {},
   "source": [
    "# **Format period separated raw SPEAR RH/T2M files into combined land files**"
   ]
  },
  {
   "cell_type": "code",
   "execution_count": 1,
   "id": "1fce5263-09d6-4bc6-b294-611bd7fe28aa",
   "metadata": {},
   "outputs": [],
   "source": [
    "import os\n",
    "import netCDF4 as nc\n",
    "import numpy as np \n",
    "import xarray as xr\n",
    "import matplotlib.pyplot as plt\n",
    "import cartopy.feature as cfeature\n",
    "import cartopy.crs as ccrs\n",
    "from scipy.stats import linregress\n",
    "import pandas as pd\n",
    "from math import nan\n"
   ]
  },
  {
   "cell_type": "code",
   "execution_count": 2,
   "id": "e3927587-b326-4c7f-a86d-efc5358e30ab",
   "metadata": {},
   "outputs": [],
   "source": [
    "dir1 = '/work/Jiale.Lou/shared_data/SPEAR/'\n",
    "dir2 = '/work/Darri.Stuber'"
   ]
  },
  {
   "cell_type": "markdown",
   "id": "d043dd7a-2147-4024-a8be-c9d2af11ec1f",
   "metadata": {
    "jp-MarkdownHeadingCollapsed": true
   },
   "source": [
    "## Read in raw files, combine files to get raw files over 1850-2100, save by ENS"
   ]
  },
  {
   "cell_type": "markdown",
   "id": "80f110fe-2ae5-492a-9686-9e65a4ea6afa",
   "metadata": {},
   "source": [
    "### Low Spear "
   ]
  },
  {
   "cell_type": "markdown",
   "id": "4e4e385b-94f1-4ecc-b0db-92dea6cc99c7",
   "metadata": {},
   "source": [
    "Relative Humidity Files"
   ]
  },
  {
   "cell_type": "code",
   "execution_count": null,
   "id": "7dec17df-0aca-40b3-85a9-42442ecd5724",
   "metadata": {},
   "outputs": [],
   "source": [
    "low_rh_dict = {} #store files in dictionary, then concat\n",
    "\n",
    "for i in range (1,31):\n",
    "    #SPEAR historical files\n",
    "    #rh_old = xr.open_dataset(dir1 +f'/LOW_LE/ens{i:02}/atmos.185101-201012.rh_ref.nc')['rh_ref']\n",
    "    #rh_new = xr.open_dataset(dir1 +f'/LOW_LE/ens{i:02}/atmos.201101-210012.rh_ref.nc')['rh_ref']\n",
    "    rh1 = xr.open_dataset(dir1 +f'/LOW_LE/ens{i:02}/atmos.185101-186012.rh_ref.nc')['rh_ref']\n",
    "    rh2 = xr.open_dataset(dir1 +f'/LOW_LE/ens{i:02}/atmos.186101-187012.rh_ref.nc')['rh_ref']\n",
    "    rh3 = xr.open_dataset(dir1 +f'/LOW_LE/ens{i:02}/atmos.187101-188012.rh_ref.nc')['rh_ref']\n",
    "    rh4 = xr.open_dataset(dir1 +f'/LOW_LE/ens{i:02}/atmos.188101-189012.rh_ref.nc')['rh_ref']\n",
    "    rh5 = xr.open_dataset(dir1 +f'/LOW_LE/ens{i:02}/atmos.189101-190012.rh_ref.nc')['rh_ref']\n",
    "    rh6 = xr.open_dataset(dir1 +f'/LOW_LE/ens{i:02}/atmos.190101-191012.rh_ref.nc')['rh_ref']\n",
    "    rh7 = xr.open_dataset(dir1 +f'/LOW_LE/ens{i:02}/atmos.191101-192012.rh_ref.nc')['rh_ref']\n",
    "    rh8 = xr.open_dataset(dir1 +f'/LOW_LE/ens{i:02}/atmos.192101-193012.rh_ref.nc')['rh_ref']\n",
    "    rh9 = xr.open_dataset(dir1 +f'/LOW_LE/ens{i:02}/atmos.193101-194012.rh_ref.nc')['rh_ref']\n",
    "    rh10 = xr.open_dataset(dir1 +f'/LOW_LE/ens{i:02}/atmos.194101-195012.rh_ref.nc')['rh_ref']\n",
    "    rh11= xr.open_dataset(dir1 +f'/LOW_LE/ens{i:02}/atmos.195101-196012.rh_ref.nc')['rh_ref']\n",
    "    rh12 = xr.open_dataset(dir1 +f'/LOW_LE/ens{i:02}/atmos.196101-197012.rh_ref.nc')['rh_ref']\n",
    "    rh13 = xr.open_dataset(dir1 +f'/LOW_LE/ens{i:02}/atmos.197101-198012.rh_ref.nc')['rh_ref']\n",
    "    rh14= xr.open_dataset(dir1 +f'/LOW_LE/ens{i:02}/atmos.198101-199012.rh_ref.nc')['rh_ref']\n",
    "    rh15= xr.open_dataset(dir1 +f'/LOW_LE/ens{i:02}/atmos.199101-200012.rh_ref.nc')['rh_ref']\n",
    "    rh16= xr.open_dataset(dir1 +f'/LOW_LE/ens{i:02}/atmos.200101-201012.rh_ref.nc')['rh_ref']\n",
    "    #Use future 585 simulation to get data up until 2100 - only up to 2020 used\n",
    "    rh17= xr.open_dataset(dir1 +f'/LOW_LE/ens{i:02}/atmos.201101-210012.rh_ref.nc')['rh_ref']\n",
    "\n",
    "    combined_rh = xr.concat([rh1,rh2,rh3,rh4,rh5,rh6,rh7,rh8,rh9, rh10,rh11, rh12,rh13,rh14,rh15,rh16,rh17], dim='time')\n",
    "    combined_rh = combined_rh.sortby('time')\n",
    "    \n",
    "    \n",
    "    combined_rh.to_netcdf(f'/work/Darri.Stuber/l_rh_ens{i}.nc')\n",
    "    '''\n",
    "    rh_old = xr.open_dataset(dir1 +f'/HIGH_LE/ens{i:02}/atmos.192101-201012.rh_ref.nc')['rh_ref']\n",
    "    rh_new = xr.open_dataset(dir1 +f'/HIGH_LE/ens{i:02}/atmos.201101-210012.rh_ref.nc')['rh_ref']\n",
    "    \n",
    "    #t_old = xr.open_dataset(dir1 +f'/LOW_LE/ens{i:02}/atmos.185101-201012.t_ref.nc')['t_ref']\n",
    "    #t_new = xr.open_dataset(dir1 +f'/LOW_LE/ens{i:02}/atmos.201101-210012.t_ref.nc')['t_ref']\n",
    "\n",
    "\n",
    "    combined_rh = xr.concat([rh_old, rh_new], dim='time')\n",
    "    combined_rh = combined_rh.sortby('time')\n",
    "    #combined_t = xr.concat([t_old, t_new], dim='time')\n",
    "    #combined_t = combined_t.sortby('time')\n",
    "    #print(combined_rh)\n",
    "    combined_rh.to_netcdf(f'/work/Darri.Stuber/h_rh_ens{i}.nc')\n",
    "\n",
    "    #regrid_t = regrid(combined_t, 't')\n",
    "    #regrid_t.to_netcdf(f'/work/Darri.Stuber/l_t_ens{i}.nc')'''\n",
    "    \n"
   ]
  },
  {
   "cell_type": "markdown",
   "id": "bd9a07f9-78c3-4535-9a6c-da36cd0d21a2",
   "metadata": {},
   "source": [
    "T Files"
   ]
  },
  {
   "cell_type": "code",
   "execution_count": null,
   "id": "fef3ca52-971a-48c6-85e4-5c96829d68ef",
   "metadata": {
    "scrolled": true
   },
   "outputs": [],
   "source": [
    "low_t_dict = {}\n",
    "\n",
    "for i in range (1,31):\n",
    "\n",
    "    t1 = xr.open_dataset(dir1 +f'/LOW_LE/ens{i:02}/atmos.185101-186012.t_ref.nc')['t_ref']\n",
    "    t2 = xr.open_dataset(dir1 +f'/LOW_LE/ens{i:02}/atmos.186101-187012.t_ref.nc')['t_ref']\n",
    "    t3 = xr.open_dataset(dir1 +f'/LOW_LE/ens{i:02}/atmos.187101-188012.t_ref.nc')['t_ref']\n",
    "    t4 = xr.open_dataset(dir1 +f'/LOW_LE/ens{i:02}/atmos.188101-189012.t_ref.nc')['t_ref']\n",
    "    t5 = xr.open_dataset(dir1 +f'/LOW_LE/ens{i:02}/atmos.189101-190012.t_ref.nc')['t_ref']\n",
    "    t6 = xr.open_dataset(dir1 +f'/LOW_LE/ens{i:02}/atmos.190101-191012.t_ref.nc')['t_ref']\n",
    "    t7 = xr.open_dataset(dir1 +f'/LOW_LE/ens{i:02}/atmos.191101-192012.t_ref.nc')['t_ref']\n",
    "    t8 = xr.open_dataset(dir1 +f'/LOW_LE/ens{i:02}/atmos.192101-193012.t_ref.nc')['t_ref']\n",
    "    t9 = xr.open_dataset(dir1 +f'/LOW_LE/ens{i:02}/atmos.193101-194012.t_ref.nc')['t_ref']\n",
    "    t10 = xr.open_dataset(dir1 +f'/LOW_LE/ens{i:02}/atmos.194101-195012.t_ref.nc')['t_ref']\n",
    "    t11= xr.open_dataset(dir1 +f'/LOW_LE/ens{i:02}/atmos.195101-196012.t_ref.nc')['t_ref']\n",
    "    t12 = xr.open_dataset(dir1 +f'/LOW_LE/ens{i:02}/atmos.196101-197012.t_ref.nc')['t_ref']\n",
    "    t13 = xr.open_dataset(dir1 +f'/LOW_LE/ens{i:02}/atmos.197101-198012.t_ref.nc')['t_ref']\n",
    "    t14= xr.open_dataset(dir1 +f'/LOW_LE/ens{i:02}/atmos.198101-199012.t_ref.nc')['t_ref']\n",
    "    t15= xr.open_dataset(dir1 +f'/LOW_LE/ens{i:02}/atmos.199101-200012.t_ref.nc')['t_ref']\n",
    "    t16= xr.open_dataset(dir1 +f'/LOW_LE/ens{i:02}/atmos.200101-201012.t_ref.nc')['t_ref']\n",
    "    t17= xr.open_dataset(dir1 +f'/LOW_LE/ens{i:02}/atmos.201101-210012.t_ref.nc')['t_ref']\n",
    "\n",
    "    combined_t = xr.concat([t1,t2,t3,t4,t5,t6,t7,t8,t9, t10,t11, t12,t13,t14,t15,t16,t17], dim='time')\n",
    "    combined_t = combined_t.sortby('time')\n",
    "    combined_t.to_netcdf(f'/work/Darri.Stuber/l_t_ens{i}.nc')\n",
    "    '''\n",
    "    #code for how files were previously stored\n",
    "    #low_rh_dict[i] = regrid_rh\n",
    "    #low_t_dict[i] = regrid_t\n",
    "    t_old = xr.open_dataset(dir1 +f'/HIGH_LE/ens{i:02}/atmos.192101-201012.t_ref.nc')['t_ref']\n",
    "    t_new = xr.open_dataset(dir1 +f'/HIGH_LE/ens{i:02}/atmos.201101-210012.t_ref.nc')['t_ref']\n",
    "    \n",
    "    #t_old = xr.open_dataset(dir1 +f'/LOW_LE/ens{i:02}/atmos.185101-201012.t_ref.nc')['t_ref']\n",
    "    #t_new = xr.open_dataset(dir1 +f'/LOW_LE/ens{i:02}/atmos.201101-210012.t_ref.nc')['t_ref']\n",
    "\n",
    "\n",
    "    combined_t = xr.concat([t_old, t_new], dim='time')\n",
    "    combined_t = combined_t.sortby('time')\n",
    "    #combined_t = xr.concat([t_old, t_new], dim='time')\n",
    "    #combined_t = combined_t.sortby('time')\n",
    "    #print(combined_t)\n",
    "    combined_t.to_netcdf(f'/work/Darri.Stuber/h_t_ens{i}.nc')\n",
    "\n",
    "    #regrid_t = regrid(combined_t, 't')\n",
    "    #regrid_t.to_netcdf(f'/work/Darri.Stuber/l_t_ens{i}.nc')\n",
    "    \n",
    "    #low_t_dict[i] = regrid_t\n",
    "\n",
    "    #low_t = xr.concat([low_t_dict[key].assign_coords(ens=key) for key in low_t_dict.keys()], dim='ens')\n",
    "    #low_t = xr.concat([low_t_dict[key].assign_coords(ens=key) for key in low_t_dict.keys()], dim='ens')\n"
   ]
  },
  {
   "cell_type": "markdown",
   "id": "5a2e9ea8-a1c1-406c-a9f1-6cd20f36fd22",
   "metadata": {
    "jp-MarkdownHeadingCollapsed": true
   },
   "source": [
    "### Med Spear"
   ]
  },
  {
   "cell_type": "code",
   "execution_count": null,
   "id": "0ced8c79-241e-438b-831e-542c8f4f494e",
   "metadata": {},
   "outputs": [],
   "source": [
    "#medium spear data no longer stored in dir1. It was imported in the same function as LoW/HighSpear"
   ]
  },
  {
   "cell_type": "markdown",
   "id": "36cc5d7e-5a2c-4310-96da-1fa6965535fb",
   "metadata": {
    "jp-MarkdownHeadingCollapsed": true
   },
   "source": [
    "### High Spear"
   ]
  },
  {
   "cell_type": "code",
   "execution_count": null,
   "id": "8a166a3a-1e68-4ebd-a7a1-eb5fd954dd64",
   "metadata": {},
   "outputs": [],
   "source": [
    "low_rh_dict = {} #store files in dictionary, then concat\n",
    "\n",
    "for i in range (1,31):\n",
    "    #import historical data and 585 simulation (just for 2014-2022 data)\n",
    "    rh_old = xr.open_dataset(dir1 +f'/HIGH_LE/ens{i:02}/atmos.192101-201012.rh_ref.nc')['rh_ref']\n",
    "    rh_new = xr.open_dataset(dir1 +f'/HIGH_LE/ens{i:02}/atmos.201101-210012.rh_ref.nc')['rh_ref']\n",
    "\n",
    "    t_old = xr.open_dataset(dir1 +f'/LOW_LE/ens{i:02}/atmos.185101-201012.t_ref.nc')['t_ref']\n",
    "    t_new = xr.open_dataset(dir1 +f'/LOW_LE/ens{i:02}/atmos.201101-210012.t_ref.nc')['t_ref']\n",
    "\n",
    "\n",
    "    combined_rh = xr.concat([rh_old, rh_new], dim='time')\n",
    "    combined_rh = combined_rh.sortby('time')\n",
    "    \n",
    "    combined_t = xr.concat([t_old, t_new], dim='time')\n",
    "    combined_t = combined_t.sortby('time')\n",
    "    combined_rh.to_netcdf(f'/work/Darri.Stuber/h_rh_ens{i}.nc')\n",
    "    combined_t.to_netcdf(f'/work/Darri.Stuber/h_t_ens{i}.nc')\n"
   ]
  },
  {
   "cell_type": "markdown",
   "id": "dd2e36a3-fff7-4c93-b820-c9f091fd0c6b",
   "metadata": {},
   "source": [
    "## Use previously created ens time-combined files combine via ens"
   ]
  },
  {
   "cell_type": "code",
   "execution_count": 5,
   "id": "d78a30e0-df52-486f-a3f1-5e0c0243baf7",
   "metadata": {},
   "outputs": [
    {
     "data": {
      "text/plain": [
       "\"\\n#MEDIUM\\nmed_rh_dict = {}\\nmed_t_dict = {}\\nmed_sst_dict = {}\\nmed_gph_dict = {}\\n\\nfor i in range (1,31):\\n    rh_raw = xr.open_dataset(dir2 +f'/med_hist/m_rh_ens{i}.nc')\\n    t_raw = xr.open_dataset(dir2 +f'/med_hist/m_t_ens{i}.nc')\\n    med_rh_dict[i] = rh_raw\\n    med_t_dict[i] = t_raw\\n\\nmed_rh = xr.concat([med_rh_dict[key].assign_coords(ens=key) for key in med_rh_dict.keys()], dim='ens')\\nmed_t = xr.concat([med_t_dict[key].assign_coords(ens=key) for key in med_t_dict.keys()], dim='ens')\\n\\n   \\n#HIGH\\nhigh_t_dict = {}\\nhigh_rh_dict = {}\\n\\n\\nfor i in range (1,11): \\n    rh_raw = xr.open_dataset(dir2 +f'/high_hist/h_rh_ens{i}.nc')\\n    t_raw = xr.open_dataset(dir2 +f'/high_hist/h_t_ens{i}.nc')\\n    high_rh_dict[i] = rh_raw\\n    high_t_dict[i] = t_raw\\n\\nhigh_rh = xr.concat([high_rh_dict[key].assign_coords(ens=key) for key in high_rh_dict.keys()], dim='ens')\\nhigh_t = xr.concat([high_t_dict[key].assign_coords(ens=key) for key in high_t_dict.keys()], dim='ens')\""
      ]
     },
     "execution_count": 5,
     "metadata": {},
     "output_type": "execute_result"
    }
   ],
   "source": [
    "#Use above to import all shared_data files and concatenate different time ranges\n",
    "#Now concatenate all ensembles for each resolution\n",
    "#LOW\n",
    "low_rh_dict = {}\n",
    "low_t_dict = {}\n",
    "for i in range (1, 31):\n",
    "        rh_raw = xr.open_dataset(dir2 +f'/low_hist/l_rh_ens{i}.nc')\n",
    "        t_raw = xr.open_dataset(dir2 +f'/low_hist/l_t_ens{i}.nc')\n",
    "        low_rh_dict[i] = rh_raw\n",
    "        low_t_dict[i] = t_raw\n",
    "\n",
    "low_rh = xr.concat([low_rh_dict[key].assign_coords(ens=key) for key in low_rh_dict.keys()], dim='ens')\n",
    "low_t = xr.concat([low_t_dict[key].assign_coords(ens=key) for key in low_t_dict.keys()], dim='ens')\n",
    "\n",
    "'''\n",
    "#MEDIUM\n",
    "med_rh_dict = {}\n",
    "med_t_dict = {}\n",
    "med_sst_dict = {}\n",
    "med_gph_dict = {}\n",
    "\n",
    "for i in range (1,31):\n",
    "    rh_raw = xr.open_dataset(dir2 +f'/med_hist/m_rh_ens{i}.nc')\n",
    "    t_raw = xr.open_dataset(dir2 +f'/med_hist/m_t_ens{i}.nc')\n",
    "    med_rh_dict[i] = rh_raw\n",
    "    med_t_dict[i] = t_raw\n",
    "\n",
    "med_rh = xr.concat([med_rh_dict[key].assign_coords(ens=key) for key in med_rh_dict.keys()], dim='ens')\n",
    "med_t = xr.concat([med_t_dict[key].assign_coords(ens=key) for key in med_t_dict.keys()], dim='ens')\n",
    "\n",
    "   \n",
    "#HIGH\n",
    "high_t_dict = {}\n",
    "high_rh_dict = {}\n",
    "\n",
    "\n",
    "for i in range (1,11): \n",
    "    rh_raw = xr.open_dataset(dir2 +f'/high_hist/h_rh_ens{i}.nc')\n",
    "    t_raw = xr.open_dataset(dir2 +f'/high_hist/h_t_ens{i}.nc')\n",
    "    high_rh_dict[i] = rh_raw\n",
    "    high_t_dict[i] = t_raw\n",
    "\n",
    "high_rh = xr.concat([high_rh_dict[key].assign_coords(ens=key) for key in high_rh_dict.keys()], dim='ens')\n",
    "high_t = xr.concat([high_t_dict[key].assign_coords(ens=key) for key in high_t_dict.keys()], dim='ens')'''"
   ]
  },
  {
   "cell_type": "markdown",
   "id": "ff86730f-7a8d-4ff6-b2f8-3d38bda0f8a2",
   "metadata": {},
   "source": [
    "## Ocean Masking"
   ]
  },
  {
   "cell_type": "code",
   "execution_count": null,
   "id": "23f41aaa-76b6-4bad-af49-724bbef606b9",
   "metadata": {},
   "outputs": [],
   "source": [
    "#import alread made ocean masks (regridded to match resolution) - see ocean_masks.ipynb\n",
    "low_mask = (xr.open_dataset(dir2 +'/masks/lres_mask.nc')).mean('time')['SST']\n",
    "med_mask = (xr.open_dataset(dir2 +'/masks/mres_mask.nc')).mean('time')['SST']\n",
    "high_mask = (xr.open_dataset(dir2 +'/masks/hres_mask.nc')).mean('time')['SST']"
   ]
  },
  {
   "cell_type": "code",
   "execution_count": 15,
   "id": "85934e7b-fc57-4764-8970-cbdaee4af9b6",
   "metadata": {},
   "outputs": [],
   "source": [
    "#ocean masks have a slightly smaller latitude range - shorten rh/t files to match for future masking\n",
    "\n",
    "med_rh= med_rh.sel(lat = slice(-77.76, 89.8))\n",
    "med_t= med_t.sel(lat = slice(-77.76, 89.8))\n",
    "\n",
    "low_rh= low_rh.sel(lat = slice(-77.76, 89.8))\n",
    "low_t = low_t.sel(lat = slice(-77.76, 89.8))\n",
    "\n",
    "high_rh= high_rh.sel(lat = slice(-77.76, 89.8))\n",
    "high_t = high_t.sel(lat = slice(-77.76, 89.8))\n"
   ]
  },
  {
   "cell_type": "code",
   "execution_count": 16,
   "id": "fb8f54ef-6931-43a1-b184-bce56298ec0a",
   "metadata": {
    "scrolled": true
   },
   "outputs": [],
   "source": [
    "#round all data to ensure that small differences in coordinate values do not interfere with masking process\n",
    "def round_coors(data):\n",
    "    data.coords['lon'] = np.round(data.coords['lon'].values, 3)\n",
    "\n",
    "data_list = [med_rh, med_t, med_mask, low_rh, low_t, low_mask, high_rh, high_t, high_mask]\n",
    "\n",
    "for i in data_list:\n",
    "    round_coors(i)\n"
   ]
  },
  {
   "cell_type": "code",
   "execution_count": 17,
   "id": "f7e1e202-0239-4971-9fb6-a5f0cd910c27",
   "metadata": {},
   "outputs": [],
   "source": [
    "#masks include values and latitude and longitude data - add time component to function with rh/t data\n",
    "final_mask_l = low_mask.broadcast_like(low_rh)\n",
    "final_mask_m = med_mask.broadcast_like(med_t)\n",
    "final_mask_h = high_mask.broadcast_like(high_t)"
   ]
  },
  {
   "cell_type": "code",
   "execution_count": null,
   "id": "4a7ae886-7733-487b-a762-51fb20cf3ac3",
   "metadata": {
    "jupyter": {
     "source_hidden": true
    }
   },
   "outputs": [],
   "source": [
    "#rounding without function\n",
    "'''med_rh.coords['lat'] = np.round(med_rh.coords['lat'].values, 3)\n",
    "med_rh.coords['lon'] = np.round(med_rh.coords['lon'].values, 3)\n",
    "\n",
    "fmed_mask.coords['lat'] = np.round(fmed_mask.coords['lat'].values, 3)\n",
    "fmed_mask.coords['lon'] = np.round(fmed_mask.coords['lon'].values, 3)\n",
    "\n",
    "final_mask = fmed_mask.broadcast_like(med_rh)\n",
    "\n",
    "low_rh.coords['lat'] = np.round(low_rh.coords['lat'].values, 3)\n",
    "low_rh.coords['lon'] = np.round(low_rh.coords['lon'].values, 3)\n",
    "\n",
    "low_t.coords['lat'] = np.round(low_t.coords['lat'].values, 3)\n",
    "low_t.coords['lon'] = np.round(low_t.coords['lon'].values, 3)\n",
    "\n",
    "flow_mask.coords['lat'] = np.round(flow_mask.coords['lat'].values, 3)\n",
    "flow_mask.coords['lon'] = np.round(flow_mask.coords['lon'].values, 3)\n",
    "\n",
    "final_mask_l = flow_mask.broadcast_like(low_rh)\n",
    "\n",
    "high_rh.coords['lat'] = np.round(high_rh.coords['lat'].values, 3)\n",
    "high_rh.coords['lon'] = np.round(high_rh.coords['lon'].values, 3)\n",
    "\n",
    "high_t.coords['lat'] = np.round(high_t.coords['lat'].values, 3)\n",
    "high_t.coords['lon'] = np.round(high_t.coords['lon'].values, 3)\n",
    "\n",
    "fhigh_mask.coords['lat'] = np.round(fhigh_mask.coords['lat'].values, 3)\n",
    "fhigh_mask.coords['lon'] = np.round(fhigh_mask.coords['lon'].values, 3)\n",
    "\n",
    "final_mask_h = fhigh_mask.broadcast_like(high_rh)'''"
   ]
  },
  {
   "cell_type": "code",
   "execution_count": null,
   "id": "df852ce6-cd4b-4fd9-b916-b68c49cd0f40",
   "metadata": {},
   "outputs": [],
   "source": [
    "#apply masks to rh/temp files to get land data\n",
    "\n",
    "med_rh_land = med_rh.where(final_mask_m == 1)\n",
    "med_t_land = med_t.where(final_mask_m == 1)\n",
    "\n",
    "low_rh_land = low_rh.where(final_mask_l == 1)\n",
    "low_t_land = low_t.where(final_mask_l == 1)\n",
    "\n",
    "high_rh_land = high_rh.where(final_mask_h == 1)\n",
    "high_t_land = high_t.where(final_mask_h == 1)\n",
    "\n",
    "#check\n",
    "fig = plt.figure()\n",
    "ax = fig.add_subplot(1, 1, 1, projection=ccrs.PlateCarree())        \n",
    "high_t_land.t_ref.mean(dim = ['ens','time']).plot()"
   ]
  },
  {
   "cell_type": "code",
   "execution_count": 12,
   "id": "fcfb456c-8035-477c-a0fc-50046fc5831e",
   "metadata": {
    "collapsed": true,
    "jupyter": {
     "outputs_hidden": true
    }
   },
   "outputs": [
    {
     "data": {
      "text/plain": [
       "<cartopy.mpl.geocollection.GeoQuadMesh at 0x2b893bd00210>"
      ]
     },
     "execution_count": 12,
     "metadata": {},
     "output_type": "execute_result"
    },
    {
     "data": {
      "image/png": "[encoded data removed]",
      "text/plain": [
       "<Figure size 640x480 with 2 Axes>"
      ]
     },
     "metadata": {},
     "output_type": "display_data"
    }
   ],
   "source": [
    "ens_mean = med_t_land.mean('ens')\n",
    "\n",
    "fig = plt.figure() #check\n",
    "ax = fig.add_subplot(1, 1, 1, projection=ccrs.PlateCarree()) #always use projection , zorder = priority (high zorder appears on top_              \n",
    "ens_mean.t_ref.mean('time').plot()"
   ]
  },
  {
   "cell_type": "code",
   "execution_count": 11,
   "id": "3552b59b-a189-4e79-990f-a272d72adf58",
   "metadata": {},
   "outputs": [],
   "source": [
    "#save files for future use\n",
    "low_t_land.to_netcdf(f'/work/Darri.Stuber/low_t_land.nc')\n",
    "low_rh_land.to_netcdf(f'/work/Darri.Stuber/low_rh_land.nc')\n",
    "\n",
    "med_t_land.to_netcdf(f'/work/Darri.Stuber/med_t_land.nc')\n",
    "med_rh_land.to_netcdf(f'/work/Darri.Stuber/med_rh_land.nc')\n",
    "\n",
    "high_t_land.to_netcdf(f'/work/Darri.Stuber/high_t_land.nc')\n",
    "high_rh_land.to_netcdf(f'/work/Darri.Stuber/high_rh_land.nc')\n"
   ]
  }
 ],
 "metadata": {
  "kernelspec": {
   "display_name": "Python 3 (ipykernel)",
   "language": "python",
   "name": "python3"
  },
  "language_info": {
   "codemirror_mode": {
    "name": "ipython",
    "version": 3
   },
   "file_extension": ".py",
   "mimetype": "text/x-python",
   "name": "python",
   "nbconvert_exporter": "python",
   "pygments_lexer": "ipython3",
   "version": "3.11.9"
  }
 },
 "nbformat": 4,
 "nbformat_minor": 5
}
